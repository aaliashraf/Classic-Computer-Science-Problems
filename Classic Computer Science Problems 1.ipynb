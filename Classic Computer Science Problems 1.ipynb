{
 "cells": [
  {
   "cell_type": "markdown",
   "metadata": {},
   "source": [
    "# Classic Computer Science Problems 1\n",
    "### Done using Python Language\n",
    "        "
   ]
  },
  {
   "cell_type": "markdown",
   "metadata": {},
   "source": [
    " In this project we will try to solve famous computer science problems in different ways . Firstly we will analyse every problem statement and build a prototype of it, then solve it in different ways to fully understand and have grip on it.\n",
    "This is a part of series in this Notebook there are problems related to string manuplation are solved in the next Book problem related to Data Structure will counter."
   ]
  },
  {
   "cell_type": "markdown",
   "metadata": {},
   "source": [
    "##### These are the things that we will learn:\n",
    "\n",
    "* Algorithms \n",
    "* Problems Solving \n",
    "* Interview Preparations \n",
    "* Quick Review of Concepts"
   ]
  },
  {
   "cell_type": "markdown",
   "metadata": {},
   "source": [
    "### 1. FizzBuzz:\n",
    "In this program we will take an integer input or constent integer value and print  **Fizz**  if the number is divisible to **3**  or print **Buzz** if the number in divisible to **5** or else if the number is divisible to both print **FizzBuzz**.\n"
   ]
  },
  {
   "cell_type": "markdown",
   "metadata": {},
   "source": [
    "### Solution:\n",
    "* Take mode(reminder) of value\n",
    "* If mode of 3 is 0 it print Fizz\n",
    "* If mode of 5 is zero it print Buzz\n",
    "* If mode of 3 & 5 is zero it print FizzBuzz"
   ]
  },
  {
   "cell_type": "code",
   "execution_count": 4,
   "metadata": {},
   "outputs": [
    {
     "name": "stdout",
     "output_type": "stream",
     "text": [
      "Enter any integer number:12\n",
      "FizzBuzz\n",
      "1\n",
      "2\n",
      "Fizz\n",
      "4\n",
      "Buzz\n",
      "Fizz\n",
      "7\n",
      "8\n",
      "Fizz\n",
      "Buzz\n",
      "11\n",
      "Fizz\n"
     ]
    }
   ],
   "source": [
    "n=input (\"Enter any integer number:\")\n",
    "n=int(n)\n",
    "if (n<0):\n",
    "    print (\"Error , enter positive integer\")\n",
    "for i in range(n+1):\n",
    "    if i%3==0 and i%5==0:\n",
    "        print (\"FizzBuzz\")\n",
    "        \n",
    "        continue # continue statement will return control to the begining of loop\n",
    "    elif i%5==0:\n",
    "        print (\"Buzz\")\n",
    "        continue\n",
    "    elif i%3==0:\n",
    "        print (\"Fizz\")\n",
    "        continue\n",
    "    print(i)\n",
    "    "
   ]
  },
  {
   "cell_type": "markdown",
   "metadata": {},
   "source": [
    "### Object Oriented FizzBuzz"
   ]
  },
  {
   "cell_type": "code",
   "execution_count": 7,
   "metadata": {},
   "outputs": [
    {
     "name": "stdout",
     "output_type": "stream",
     "text": [
      "FizzBuzz\n",
      "1\n",
      "2\n",
      "Fizz\n",
      "4\n",
      "Buzz\n",
      "Fizz\n",
      "7\n",
      "8\n",
      "Fizz\n",
      "Buzz\n",
      "11\n",
      "Fizz\n",
      "13\n",
      "14\n",
      "FizzBuzz\n",
      "None\n"
     ]
    }
   ],
   "source": [
    "class FizzBuzz(object):\n",
    "    def fun(self,n):\n",
    "        for i in range(n+1):\n",
    "            if i%3==0 and i%5==0:\n",
    "                print (\"FizzBuzz\")\n",
    "\n",
    "                continue # continue statement will return control to the begining of loop\n",
    "            elif i%5==0:\n",
    "                print (\"Buzz\")\n",
    "                continue\n",
    "            elif i%3==0:\n",
    "                print (\"Fizz\")\n",
    "                continue\n",
    "            print(i)\n",
    "fizz1=FizzBuzz()\n",
    "print(fizz1.fun(15))"
   ]
  },
  {
   "cell_type": "markdown",
   "metadata": {},
   "source": [
    "### 2. Fibonacci Series:\n",
    "Fibonacci Series are the numbers in the form \n",
    "0,1,1,2,3,5,8,13\n",
    "means the next number is the sum of two privious one, our goal is to find the fib sequence of input number or series of input value."
   ]
  },
  {
   "cell_type": "markdown",
   "metadata": {},
   "source": [
    "### Solution:\n",
    "* if the next number is the sum of two privious number then\n",
    "* n=(n-1)+(n-2)\n",
    "* this series will not work <=0 or input is 1 (constrain)\n",
    "* if 1 then return n"
   ]
  },
  {
   "cell_type": "markdown",
   "metadata": {},
   "source": [
    "##### Simplest recursive way"
   ]
  },
  {
   "cell_type": "code",
   "execution_count": 12,
   "metadata": {},
   "outputs": [
    {
     "name": "stdout",
     "output_type": "stream",
     "text": [
      "144\n"
     ]
    }
   ],
   "source": [
    "def fib(n):\n",
    "    if (n<=1):\n",
    "        return n\n",
    "    else:\n",
    "        return (fib(n-1)+fib(n-2))\n",
    "print(fib(12))"
   ]
  },
  {
   "cell_type": "code",
   "execution_count": 14,
   "metadata": {},
   "outputs": [
    {
     "name": "stdout",
     "output_type": "stream",
     "text": [
      "0\n",
      "1\n",
      "1\n",
      "2\n",
      "3\n",
      "5\n",
      "8\n",
      "13\n",
      "21\n",
      "34\n",
      "55\n",
      "89\n",
      "144\n"
     ]
    }
   ],
   "source": [
    "# for printing series\n",
    "for i in range(n+1):\n",
    "    print(fib(i))"
   ]
  },
  {
   "cell_type": "markdown",
   "metadata": {},
   "source": [
    "##### Iterative Way"
   ]
  },
  {
   "cell_type": "code",
   "execution_count": 23,
   "metadata": {},
   "outputs": [
    {
     "name": "stdout",
     "output_type": "stream",
     "text": [
      "8\n"
     ]
    }
   ],
   "source": [
    "def fibo(n):\n",
    "    x=0 #initially def \n",
    "    y=1\n",
    "    if (n<=1):\n",
    "        return y\n",
    "    else:\n",
    "        for i in range(2,n+1):\n",
    "            z=x+y\n",
    "            x=y\n",
    "            y=z\n",
    "        return y\n",
    "print(fibo(6))"
   ]
  },
  {
   "cell_type": "markdown",
   "metadata": {},
   "source": [
    "### 3. Reverse String:\n",
    "its the simplest one task just add for loop in which the iteration comes first then add it to origional string"
   ]
  },
  {
   "cell_type": "code",
   "execution_count": 27,
   "metadata": {},
   "outputs": [
    {
     "name": "stdout",
     "output_type": "stream",
     "text": [
      "Hello World!\n",
      "!dlroW olleH\n"
     ]
    }
   ],
   "source": [
    "def reverse(s):\n",
    "    rev=''\n",
    "    for i in s:\n",
    "        rev=i+rev\n",
    "    return rev\n",
    "s=\"Hello World!\"\n",
    "print(s)\n",
    "print(reverse(s))\n",
    "        \n",
    "        "
   ]
  },
  {
   "cell_type": "markdown",
   "metadata": {},
   "source": [
    "### 4. Palindrome:\n",
    "A word or number which has same backward and forward or when reverse it get the same result.\n",
    "e.g madam reverse it will get madam\n",
    "#### Solution:\n",
    "* check the reverse of string\n",
    "* if equal then the string is in palindrome"
   ]
  },
  {
   "cell_type": "code",
   "execution_count": 46,
   "metadata": {},
   "outputs": [
    {
     "name": "stdout",
     "output_type": "stream",
     "text": [
      "yes\n"
     ]
    }
   ],
   "source": [
    "def palindrome(s):\n",
    "    rev=''\n",
    "    for i in s:\n",
    "        rev=i+rev\n",
    "    return rev\n",
    "s=\"12321\"\n",
    "result=palindrome(s)\n",
    "if result==s:\n",
    "    print(\"yes\")\n",
    "else :\n",
    "    print(\"No\")"
   ]
  },
  {
   "cell_type": "markdown",
   "metadata": {},
   "source": [
    "### 5. Reverse Integer:\n",
    "its a little bit different than everse string bcz here we should take account sign of interger.\n",
    "#### Solution:\n",
    "* take modulo of n%10 as it gives the last digit\n",
    "* reverse number and add reminder\n",
    "* here we multiply it unless it will give the sum of given numbers\n",
    "* n/10 bcz the reminder we go in infinite loop"
   ]
  },
  {
   "cell_type": "code",
   "execution_count": 127,
   "metadata": {},
   "outputs": [
    {
     "name": "stdout",
     "output_type": "stream",
     "text": [
      "-743\n"
     ]
    }
   ],
   "source": [
    "n=-347\n",
    "n=int(n)\n",
    "def reverseint(n):\n",
    "    rev=0\n",
    "    if n<0:\n",
    "        sign=-1\n",
    "    else:\n",
    "        sign=1\n",
    "    n*=sign\n",
    "    while(n>0):\n",
    "        reminder=int(n%10)\n",
    "        rev=rev*10+reminder\n",
    "        n=int(n/10)\n",
    "    return sign*rev\n",
    "\n",
    "print(reverseint(n))  "
   ]
  },
  {
   "cell_type": "markdown",
   "metadata": {},
   "source": [
    "### 6. Max Character:\n",
    "A program to find put max character in a string"
   ]
  },
  {
   "cell_type": "markdown",
   "metadata": {},
   "source": [
    "#### Solution:\n",
    "* take two variable one for max char and one for max count\n",
    "* used python function count to count full string\n",
    "* when a char is occur two time its count will greater than max-count & assigned to it."
   ]
  },
  {
   "cell_type": "code",
   "execution_count": 6,
   "metadata": {},
   "outputs": [
    {
     "name": "stdout",
     "output_type": "stream",
     "text": [
      "('t', 2)\n"
     ]
    }
   ],
   "source": [
    "def max_character(str):\n",
    "    max_char=''\n",
    "    max_count=0\n",
    "    for char in set(str): ## set() is an unordered type that is iterable and has no duplicate elements\n",
    "        count=str.count(char)\n",
    "        if count>max_count:\n",
    "            max_count=count\n",
    "            max_char=char\n",
    "    return max_char,max_count\n",
    "print(max_character(\"tomato\"))"
   ]
  },
  {
   "cell_type": "markdown",
   "metadata": {},
   "source": [
    "### 7. Array Chunking:\n",
    "Array chunking is a technique used to split very large arrays into smaller groups of defined size of\n",
    "arrays.\n",
    "chunkArray([1, 2, 3, 4, 5, 6, 7, 8, 9, 10, 11, 12, 13], 5)\n",
    "// should return [[1, 2, 3, 4, 5], [6, 7, 8, 9, 10], [11, 12, 13]]"
   ]
  },
  {
   "cell_type": "markdown",
   "metadata": {},
   "source": [
    "#### Solution:\n",
    "* Here we have to split our array into smaller groups of size x.\n",
    "* Create a func. with two parameters array & size\n",
    "* we used yield function,yield statement suspends function’s execution and sends a value back to the caller, but retains enough state to enable function to resume where it is left off.\n",
    "* [i:i+size] loop through i to size"
   ]
  },
  {
   "cell_type": "code",
   "execution_count": 15,
   "metadata": {},
   "outputs": [
    {
     "name": "stdout",
     "output_type": "stream",
     "text": [
      "[[1, 2], [3, 4], [5, 6], [7]]\n"
     ]
    }
   ],
   "source": [
    "def array_chunk(array,size):\n",
    "    for i in range(0,len(array),size):\n",
    "        yield array[i:i+size] \n",
    "result=list(array_chunk([1,2,3,4,5,6,7],2))       \n",
    "print(result)"
   ]
  },
  {
   "cell_type": "markdown",
   "metadata": {},
   "source": [
    "### 8. Anagrams:\n",
    "A word is in anagram when it rearranged to form a new word.As listen is anagram to silent."
   ]
  },
  {
   "cell_type": "markdown",
   "metadata": {},
   "source": [
    "#### Solution:\n",
    "* given two string make a func that take both\n",
    "* check both string contain same character and character occur same number of time\n",
    "* thanks to sort func that sort out list in orderly"
   ]
  },
  {
   "cell_type": "code",
   "execution_count": 169,
   "metadata": {},
   "outputs": [],
   "source": [
    "# def isanagram(s1,s2):\n",
    "#     if(sorted(s1)==sorted(s2)):\n",
    "#         print(\"is anagram\")\n",
    "#     else:\n",
    "#         print(\"Not in anagram\")\n",
    "# s1='silent'\n",
    "# s2='listen'\n",
    "# print(isanagram(s1,s2))"
   ]
  },
  {
   "cell_type": "markdown",
   "metadata": {},
   "source": [
    "###### Without using sort function"
   ]
  },
  {
   "cell_type": "code",
   "execution_count": 145,
   "metadata": {},
   "outputs": [
    {
     "name": "stdout",
     "output_type": "stream",
     "text": [
      "is anagram\n"
     ]
    }
   ],
   "source": [
    "def order(unlist):\n",
    "    sorted_list=[]\n",
    "    while unlist:\n",
    "        min=unlist[0]\n",
    "        for i in unlist:\n",
    "            if i<min:\n",
    "                min=i\n",
    "        sorted_list.append(min)\n",
    "        unlist.remove(min)\n",
    "    return sorted_list\n",
    "str1=\"silent\"\n",
    "str2='listen'\n",
    "list1=[]\n",
    "list1[:0]=str1\n",
    "list2=[]\n",
    "list2[:0]=str2\n",
    " \n",
    "if order(list1)==order(list2):\n",
    "    print(\"is anagram\")\n",
    "else:\n",
    "    print(\"Not anagram\")"
   ]
  },
  {
   "cell_type": "markdown",
   "metadata": {},
   "source": [
    "### 9. Printing Patterns:\n",
    "This is the basic problem in programming fundamental where their is a specic pattern of stars of number is printed.\n",
    "Note: all the algorithmic concepts based on row and columns.\n"
   ]
  },
  {
   "cell_type": "code",
   "execution_count": 7,
   "metadata": {},
   "outputs": [
    {
     "name": "stdout",
     "output_type": "stream",
     "text": [
      "0  \n",
      "1 1  \n",
      "2 2 2  \n",
      "3 3 3 3  \n",
      "4 4 4 4 4  \n"
     ]
    }
   ],
   "source": [
    "## Triangle Number pattern\n",
    "rows=5\n",
    "for i in range(rows):\n",
    "    for j in range(i+1):\n",
    "        print(i,end=\" \")\n",
    "    print(\" \")"
   ]
  },
  {
   "cell_type": "code",
   "execution_count": 11,
   "metadata": {},
   "outputs": [
    {
     "name": "stdout",
     "output_type": "stream",
     "text": [
      "        5 \n",
      "      5 5 \n",
      "    5 5 5 \n",
      "  5 5 5 5 \n"
     ]
    }
   ],
   "source": [
    "# Rotate 180 degree\n",
    "rows=5\n",
    "fix=rows\n",
    "for i in range(1,rows):\n",
    "    num=1\n",
    "    for j in range(rows,0,-1):\n",
    "        if j>i:\n",
    "            print(\" \",end=' ')\n",
    "        else:\n",
    "            print(fix,end=' ')\n",
    "            num+=1\n",
    "    print(\"\")"
   ]
  },
  {
   "cell_type": "markdown",
   "metadata": {},
   "source": [
    "### 10. Pyramid Printing:\n",
    "This is similar to the printing pattern where a shape like pyramid will be build.\n",
    "here just introduce c=2*n-2 spacing in pyramid"
   ]
  },
  {
   "cell_type": "code",
   "execution_count": 1,
   "metadata": {},
   "outputs": [
    {
     "name": "stdout",
     "output_type": "stream",
     "text": [
      "          * \r\n",
      "         * * \r\n",
      "        * * * \r\n",
      "       * * * * \r\n",
      "      * * * * * \r\n",
      "     * * * * * * \r\n"
     ]
    }
   ],
   "source": [
    "def pyramid(n):\n",
    "    c=2*n - 2\n",
    "    for i in range(0,n):\n",
    "        for j in range(0,c):\n",
    "            print(end=\" \")\n",
    "        c=c - 1\n",
    "        for j in range(0,i+1):\n",
    "            print(\"* \",end='')\n",
    "        print('\\r')\n",
    "n=6\n",
    "pyramid(n)"
   ]
  },
  {
   "cell_type": "markdown",
   "metadata": {},
   "source": [
    "### 12. Hamming Distance:\n",
    "The hamming distance between two strings of equal length is the number of positions at which these strings vary. In more technical terms, it is a measure of the minimum number of changes required to turn one string into another.\n",
    "hammingDistance('rover', 'river') // should return 1"
   ]
  },
  {
   "cell_type": "code",
   "execution_count": 43,
   "metadata": {},
   "outputs": [
    {
     "name": "stdout",
     "output_type": "stream",
     "text": [
      "char not match ('o', 'i') in 1\n",
      "1\n"
     ]
    }
   ],
   "source": [
    "def hamming(s1,s2):\n",
    "    result=0\n",
    "    if len(s1)!=len(s2):\n",
    "        print(\"String are not equal\")\n",
    "    else:\n",
    "        for x,(i,j) in enumerate(zip(s1,s2)):\n",
    "            if i!=j:\n",
    "                print(f'char not match {i,j} in {x}')\n",
    "                result+=1\n",
    "    return result\n",
    "     \n",
    "s1=\"rover\"\n",
    "s2=\"river\"\n",
    "print(hamming(s1,s2))"
   ]
  },
  {
   "cell_type": "markdown",
   "metadata": {},
   "source": [
    "### 13. Vowels:\n",
    "A vowel is a syllabic speech sound pronounced without any stricture in the vocal tract.\n",
    "Words are built from vowels (a, e, i, o, u) ."
   ]
  },
  {
   "cell_type": "code",
   "execution_count": 1,
   "metadata": {},
   "outputs": [
    {
     "name": "stdout",
     "output_type": "stream",
     "text": [
      "orange start with Vowel word o\n"
     ]
    }
   ],
   "source": [
    "def check_vowel(s1):\n",
    "    v=['a','e','i','o','u']\n",
    "    for i in v:\n",
    "        if s1[0].lower()==i:\n",
    "            return (f'{s1} start with Vowel word {i}')\n",
    "    else:\n",
    "            return (f\" {s1} start with Consonants word {s1[0]}\")\n",
    "print(check_vowel(\"orange\"))"
   ]
  },
  {
   "cell_type": "markdown",
   "metadata": {},
   "source": [
    "### 14. Sort List Asending Order:\n",
    "Sort out list in asending order without using sort() function."
   ]
  },
  {
   "cell_type": "code",
   "execution_count": 5,
   "metadata": {},
   "outputs": [
    {
     "name": "stdout",
     "output_type": "stream",
     "text": [
      "[0, 1, 3, 4, 7]\n"
     ]
    }
   ],
   "source": [
    "def sort_fun(un_sort):\n",
    "    sort=[]\n",
    "    while un_sort:\n",
    "        min=un_sort[0]\n",
    "        for i in un_sort:\n",
    "            if i<min:\n",
    "                min=i\n",
    "        sort.append(min)\n",
    "        un_sort.remove(min)\n",
    "    return sort\n",
    "a=[3,4,7,0,1]\n",
    "print(sort_fun(a))"
   ]
  },
  {
   "cell_type": "markdown",
   "metadata": {},
   "source": [
    "### 15. List Sort Desending Order\n",
    "Sort out list in desending order without using function."
   ]
  },
  {
   "cell_type": "code",
   "execution_count": 7,
   "metadata": {},
   "outputs": [
    {
     "name": "stdout",
     "output_type": "stream",
     "text": [
      "[121, 44, 33, 12, 0]\n"
     ]
    }
   ],
   "source": [
    "def sort_out(unsort):\n",
    "    sort=[]\n",
    "    while unsort:\n",
    "        max=unsort[0]\n",
    "        for i in unsort:\n",
    "            if i>max:\n",
    "                max=i\n",
    "        sort.append(max)\n",
    "        unsort.remove(max) \n",
    "    return sort\n",
    "b=[12,33,0,44,121]\n",
    "print(sort_out(b))"
   ]
  },
  {
   "cell_type": "markdown",
   "metadata": {},
   "source": [
    "### 16. Search Word and its index:\n",
    "first search a word then replace it with new word\n",
    "fun(sentence,word,new_word)"
   ]
  },
  {
   "cell_type": "code",
   "execution_count": 2,
   "metadata": {},
   "outputs": [
    {
     "name": "stdout",
     "output_type": "stream",
     "text": [
      "word is \"time\" at the index 3 \n"
     ]
    }
   ],
   "source": [
    "def replace_w (sentence,word):\n",
    "    sentence.lower()\n",
    "    word.lower()\n",
    "    for i,w in enumerate(sentence.split()):\n",
    "        if w==word:\n",
    "            return (f'word is \"{w}\" at the index {i} ')\n",
    "    else:\n",
    "        return (\"String not found\")\n",
    "sentence=\"what is the time\"\n",
    "word=\"time\"\n",
    "\n",
    "print(replace_w(sentence,word))"
   ]
  },
  {
   "cell_type": "markdown",
   "metadata": {},
   "source": [
    "### 17. Finding Longest Word in a String:\n",
    "Given a sentence find longest word in it.\n",
    "function(sentence) will receive."
   ]
  },
  {
   "cell_type": "code",
   "execution_count": 17,
   "metadata": {},
   "outputs": [
    {
     "name": "stdout",
     "output_type": "stream",
     "text": [
      "brown\n"
     ]
    }
   ],
   "source": [
    "def long_word(sentence):\n",
    "    \n",
    "    max=0\n",
    "    result=\"\"\n",
    "    for i in (sentence.split()):\n",
    "         if len(i)>max:\n",
    "                max=len(i)\n",
    "                result=i\n",
    "    return result\n",
    "        \n",
    "    \n",
    "s=\"A brown fox\"\n",
    "print(long_word(s))"
   ]
  },
  {
   "cell_type": "markdown",
   "metadata": {},
   "source": [
    "### 18. Range Sum:\n",
    "Given a range of two number & give the accumulate sum between them."
   ]
  },
  {
   "cell_type": "code",
   "execution_count": 40,
   "metadata": {},
   "outputs": [
    {
     "name": "stdout",
     "output_type": "stream",
     "text": [
      "10\n"
     ]
    }
   ],
   "source": [
    "def range_sum(array):\n",
    "    if array[0]==array[1]:\n",
    "        return array[0]\n",
    "    else:\n",
    "        return range_sum([array[0],array[1]-1])+array[1]\n",
    "range=[1,4]\n",
    "print(range_sum(range))"
   ]
  },
  {
   "cell_type": "markdown",
   "metadata": {},
   "source": []
  }
 ],
 "metadata": {
  "kernelspec": {
   "display_name": "Python 3.7.4 32-bit",
   "language": "python",
   "name": "python37432bitd36c6a90078e485f856bc2560ae48b93"
  },
  "language_info": {
   "codemirror_mode": {
    "name": "ipython",
    "version": 3
   },
   "file_extension": ".py",
   "mimetype": "text/x-python",
   "name": "python",
   "nbconvert_exporter": "python",
   "pygments_lexer": "ipython3",
   "version": "3.7.4"
  }
 },
 "nbformat": 4,
 "nbformat_minor": 4
}
